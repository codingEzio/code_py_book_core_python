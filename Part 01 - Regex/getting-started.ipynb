{
 "cells": [
  {
   "cell_type": "markdown",
   "metadata": {},
   "source": [
    "Use [regex101](https://regex101.com) !!"
   ]
  },
  {
   "cell_type": "markdown",
   "metadata": {},
   "source": [
    "a few words about ```match``` & ```search```\n",
    "- ***search*** <u>hell</u> **in** \\*<u>hell</u>o world\\*\n",
    "- <u>hell</u>o world ***match*** \\*<u>hell</u>\\*"
   ]
  },
  {
   "cell_type": "markdown",
   "metadata": {},
   "source": [
    "and one more \n",
    "- The functionality might be overlapped, that's .. normal.\n",
    "- Take it easy."
   ]
  },
  {
   "cell_type": "code",
   "execution_count": 2,
   "metadata": {},
   "outputs": [],
   "source": [
    "from re import *\n",
    "from re import compile as recompile  # pre-comp is recommended."
   ]
  },
  {
   "cell_type": "markdown",
   "metadata": {},
   "source": [
    "- 0x01 - either is fine!"
   ]
  },
  {
   "cell_type": "code",
   "execution_count": 3,
   "metadata": {},
   "outputs": [
    {
     "data": {
      "text/plain": [
       "'at'"
      ]
     },
     "execution_count": 3,
     "metadata": {},
     "output_type": "execute_result"
    },
    {
     "data": {
      "text/plain": [
       "'home'"
      ]
     },
     "execution_count": 3,
     "metadata": {},
     "output_type": "execute_result"
    }
   ],
   "source": [
    "search(r'at|home', \"at\")  [0]\n",
    "search(r'at|home', \"home\")[0]"
   ]
  },
  {
   "cell_type": "markdown",
   "metadata": {},
   "source": [
    "- 0x02 - sole '.'"
   ]
  },
  {
   "cell_type": "code",
   "execution_count": 13,
   "metadata": {
    "scrolled": true
   },
   "outputs": [
    {
     "data": {
      "text/plain": [
       "('hello', 'X')"
      ]
     },
     "execution_count": 13,
     "metadata": {},
     "output_type": "execute_result"
    },
    {
     "data": {
      "text/plain": [
       "('hello', '\\n')"
      ]
     },
     "execution_count": 13,
     "metadata": {},
     "output_type": "execute_result"
    }
   ],
   "source": [
    "# match anything ( if with 'flags' )\n",
    "\n",
    "# => match the next alphabet (one)\n",
    "search(r\"(hello)(.)\", \"helloXY\").groups()\n",
    "\n",
    "# => match the `\\n` (for multiline)\n",
    "search(r\"(hello)(.)\", \"\"\"\n",
    "hello\n",
    "world\n",
    "\"\"\", flags=DOTALL).groups()"
   ]
  },
  {
   "cell_type": "markdown",
   "metadata": {},
   "source": [
    "- 0x03 - start/end "
   ]
  },
  {
   "cell_type": "code",
   "execution_count": 4,
   "metadata": {
    "scrolled": true
   },
   "outputs": [
    {
     "data": {
      "text/plain": [
       "('From', '.. Swiss!')"
      ]
     },
     "execution_count": 4,
     "metadata": {},
     "output_type": "execute_result"
    },
    {
     "data": {
      "text/plain": [
       "('Kill ', 'it')"
      ]
     },
     "execution_count": 4,
     "metadata": {},
     "output_type": "execute_result"
    },
    {
     "data": {
      "text/plain": [
       "('Hate ', 'it')"
      ]
     },
     "execution_count": 4,
     "metadata": {},
     "output_type": "execute_result"
    },
    {
     "data": {
      "text/plain": [
       "('hello', 'ooo world', '!')"
      ]
     },
     "execution_count": 4,
     "metadata": {},
     "output_type": "execute_result"
    },
    {
     "data": {
      "text/plain": [
       "('hello', ' world', '!')"
      ]
     },
     "execution_count": 4,
     "metadata": {},
     "output_type": "execute_result"
    }
   ],
   "source": [
    "# with ^\n",
    "\n",
    "search(\n",
    "    r'(^From)(.*)', \n",
    "    'From.. Swiss!').groups()\n",
    "\n",
    "# with $\n",
    "\n",
    "search(r'(.*)(it$)', 'Kill it').groups()\n",
    "search(r'(.*)(it$)', 'Hate it').groups()\n",
    "\n",
    "\n",
    "# with ^ and $\n",
    "\n",
    "search(\n",
    "    r'(^hello)(.*)(!$)', \n",
    "    'helloooo world!').groups()\n",
    "\n",
    "search(\n",
    "    r'(^hello)(.*)(!$)', \n",
    "    'hello world!').groups()"
   ]
  },
  {
   "cell_type": "markdown",
   "metadata": {},
   "source": [
    "- 0x04 - \\b"
   ]
  },
  {
   "cell_type": "code",
   "execution_count": 5,
   "metadata": {},
   "outputs": [
    {
     "data": {
      "text/plain": [
       "('the',)"
      ]
     },
     "execution_count": 5,
     "metadata": {},
     "output_type": "execute_result"
    },
    {
     "data": {
      "text/plain": [
       "('the', 'hell')"
      ]
     },
     "execution_count": 5,
     "metadata": {},
     "output_type": "execute_result"
    },
    {
     "data": {
      "text/plain": [
       "('what', 'the', ' f')"
      ]
     },
     "execution_count": 5,
     "metadata": {},
     "output_type": "execute_result"
    }
   ],
   "source": [
    "# --- It was called 'word boundary' --- \n",
    "\n",
    "# What is it?\n",
    "#   Anything except the [a-zA-Z0-9_], all clear?\n",
    "\n",
    "search(r'(the)',           'the'      ).groups()  # itself, literally\n",
    "search(r'(\\bthe)(.*)',     'x thehell').groups()  # [BOUNDARY]the\n",
    "search(r'(.*)(the\\b)(.*)', 'whatthe f').groups()  # the[BOUNDARY]\n",
    "\n",
    "# --- As an boundary, but not consuming anythin'. ---"
   ]
  },
  {
   "cell_type": "code",
   "execution_count": 6,
   "metadata": {},
   "outputs": [
    {
     "data": {
      "text/plain": [
       "('x', 'the', '-x')"
      ]
     },
     "execution_count": 6,
     "metadata": {},
     "output_type": "execute_result"
    },
    {
     "data": {
      "text/plain": [
       "('x-', 'the', '-x')"
      ]
     },
     "execution_count": 6,
     "metadata": {},
     "output_type": "execute_result"
    }
   ],
   "source": [
    "# --- The '\\B' kinda reverses that (match -> NOT match) --- \n",
    "\n",
    "search(r'(.*)(\\Bthe)(.*)', 'xthe-x' ).groups()  # [NO-BOUNDARY]the\n",
    "search(r'(.*)(\\bthe)(.*)', 'x-the-x').groups()  # [BOUNDARY]the"
   ]
  },
  {
   "cell_type": "markdown",
   "metadata": {},
   "source": [
    "- 0x05 - \\[xyz\\]"
   ]
  },
  {
   "cell_type": "code",
   "execution_count": 7,
   "metadata": {},
   "outputs": [
    {
     "data": {
      "text/plain": [
       "('baby', 'by')"
      ]
     },
     "execution_count": 7,
     "metadata": {},
     "output_type": "execute_result"
    },
    {
     "data": {
      "text/plain": [
       "('box', 'x')"
      ]
     },
     "execution_count": 7,
     "metadata": {},
     "output_type": "execute_result"
    }
   ],
   "source": [
    "ptn = recompile(r'(^b[aoi](.*))')\n",
    "\n",
    "ptn.search('baby').groups()\n",
    "ptn.search('box' ).groups()"
   ]
  },
  {
   "cell_type": "code",
   "execution_count": 8,
   "metadata": {},
   "outputs": [
    {
     "data": {
      "text/plain": [
       "('a', 'b', 'c')"
      ]
     },
     "execution_count": 8,
     "metadata": {},
     "output_type": "execute_result"
    },
    {
     "data": {
      "text/plain": [
       "('x', 'y', 'z')"
      ]
     },
     "execution_count": 8,
     "metadata": {},
     "output_type": "execute_result"
    },
    {
     "data": {
      "text/plain": [
       "('a', 'y', 'c')"
      ]
     },
     "execution_count": 8,
     "metadata": {},
     "output_type": "execute_result"
    }
   ],
   "source": [
    "ptn2 = recompile(r'([ax])([by])([cz])')\n",
    "\n",
    "ptn2.search('abc').groups()\n",
    "ptn2.search('xyz').groups()\n",
    "ptn2.search('ayc').groups()"
   ]
  },
  {
   "cell_type": "code",
   "execution_count": 9,
   "metadata": {},
   "outputs": [
    {
     "data": {
      "text/plain": [
       "(('a',), ('b',), ('y',))"
      ]
     },
     "execution_count": 9,
     "metadata": {},
     "output_type": "execute_result"
    }
   ],
   "source": [
    "ptn3 = recompile(r'([abx-z])')\n",
    "\n",
    "ptn3.search('a').groups(), \\\n",
    "ptn3.search('b').groups(), \\\n",
    "ptn3.search('y').groups(), "
   ]
  },
  {
   "cell_type": "code",
   "execution_count": 10,
   "metadata": {},
   "outputs": [
    {
     "data": {
      "text/plain": [
       "(('c',), ('d',))"
      ]
     },
     "execution_count": 10,
     "metadata": {},
     "output_type": "execute_result"
    }
   ],
   "source": [
    "ptn4 = recompile(r'([^aeiou])')\n",
    "\n",
    "ptn4.search('c').groups(), \\\n",
    "ptn4.search('d').groups(), "
   ]
  },
  {
   "cell_type": "code",
   "execution_count": 14,
   "metadata": {},
   "outputs": [
    {
     "data": {
      "text/plain": [
       "('\\nX\\n', 'Y', '\\n')"
      ]
     },
     "execution_count": 14,
     "metadata": {},
     "output_type": "execute_result"
    }
   ],
   "source": [
    "ptn5 = recompile(r'(.*)([^\\t\\n])(.*)', flags=DOTALL)\n",
    "\n",
    "ptn5.search(\"\"\"\n",
    "X\n",
    "Y\n",
    "\"\"\").groups()  # '\\nX\\n' -> 'Y' -> '\\n'"
   ]
  },
  {
   "cell_type": "markdown",
   "metadata": {},
   "source": [
    "- 0x06 - repetition"
   ]
  },
  {
   "cell_type": "code",
   "execution_count": 51,
   "metadata": {},
   "outputs": [],
   "source": [
    "# * / +\n",
    "#   ra*  ---  _, ra, raaa\n",
    "#   ra+  ---     ra, raaa"
   ]
  },
  {
   "cell_type": "code",
   "execution_count": 52,
   "metadata": {},
   "outputs": [
    {
     "data": {
      "text/plain": [
       "('no',)"
      ]
     },
     "execution_count": 52,
     "metadata": {},
     "output_type": "execute_result"
    },
    {
     "data": {
      "text/plain": [
       "('not',)"
      ]
     },
     "execution_count": 52,
     "metadata": {},
     "output_type": "execute_result"
    }
   ],
   "source": [
    "# ?\n",
    "\n",
    "ptn_qm = recompile(r'([dn]ot?)')\n",
    "\n",
    "ptn_qm.match('no').groups()   # 0 t\n",
    "ptn_qm.match('not').groups()  # 1 t"
   ]
  },
  {
   "cell_type": "code",
   "execution_count": 85,
   "metadata": {},
   "outputs": [
    {
     "data": {
      "text/plain": [
       "('555', '555', '5555')"
      ]
     },
     "execution_count": 85,
     "metadata": {},
     "output_type": "execute_result"
    },
    {
     "data": {
      "text/plain": [
       "('',)"
      ]
     },
     "execution_count": 85,
     "metadata": {},
     "output_type": "execute_result"
    },
    {
     "data": {
      "text/plain": [
       "('1',)"
      ]
     },
     "execution_count": 85,
     "metadata": {},
     "output_type": "execute_result"
    },
    {
     "data": {
      "text/plain": [
       "('111',)"
      ]
     },
     "execution_count": 85,
     "metadata": {},
     "output_type": "execute_result"
    }
   ],
   "source": [
    "# {M, N}\n",
    "\n",
    "match(\n",
    "    r'(\\d{3})-(\\d{3})-(\\d{4})', '555-555-5555').groups()\n",
    "\n",
    "match(r'(\\d{0,3})', ''   ).groups()\n",
    "match(r'(\\d{0,3})', '1'  ).groups()\n",
    "match(r'(\\d{0,3})', '111').groups()"
   ]
  },
  {
   "cell_type": "markdown",
   "metadata": {},
   "source": [
    "- 0x07 - charset"
   ]
  },
  {
   "cell_type": "code",
   "execution_count": 61,
   "metadata": {},
   "outputs": [
    {
     "data": {
      "text/plain": [
       "('005',)"
      ]
     },
     "execution_count": 61,
     "metadata": {},
     "output_type": "execute_result"
    },
    {
     "data": {
      "text/plain": [
       "('005',)"
      ]
     },
     "execution_count": 61,
     "metadata": {},
     "output_type": "execute_result"
    }
   ],
   "source": [
    "# \\d === [0-9]\n",
    "\n",
    "match(r'[0-9]*.(\\d+)', '.005' ).groups()\n",
    "match(r'\\d*.(\\d+)'   , '.005' ).groups()"
   ]
  },
  {
   "cell_type": "code",
   "execution_count": 66,
   "metadata": {},
   "outputs": [
    {
     "data": {
      "text/plain": [
       "('_register', '')"
      ]
     },
     "execution_count": 66,
     "metadata": {},
     "output_type": "execute_result"
    },
    {
     "data": {
      "text/plain": [
       "('_', '')"
      ]
     },
     "execution_count": 66,
     "metadata": {},
     "output_type": "execute_result"
    },
    {
     "data": {
      "text/plain": [
       "('a', '1')"
      ]
     },
     "execution_count": 66,
     "metadata": {},
     "output_type": "execute_result"
    }
   ],
   "source": [
    "# \\w === [a-zA-Z0-9_]\n",
    "\n",
    "ptn_valid_varname = recompile(r'([a-zA-Z_]+)(\\w*)')\n",
    "\n",
    "ptn_valid_varname.match('_register').groups()\n",
    "ptn_valid_varname.match('_'        ).groups()\n",
    "ptn_valid_varname.match('a1'       ).groups()"
   ]
  },
  {
   "cell_type": "code",
   "execution_count": 73,
   "metadata": {},
   "outputs": [
    {
     "data": {
      "text/plain": [
       "('x', 'y')"
      ]
     },
     "execution_count": 73,
     "metadata": {},
     "output_type": "execute_result"
    },
    {
     "data": {
      "text/plain": [
       "('x', 'y')"
      ]
     },
     "execution_count": 73,
     "metadata": {},
     "output_type": "execute_result"
    },
    {
     "data": {
      "text/plain": [
       "('x', 'y')"
      ]
     },
     "execution_count": 73,
     "metadata": {},
     "output_type": "execute_result"
    }
   ],
   "source": [
    "# \\s \n",
    "\n",
    "ptn_space_stuff = recompile(r'(\\w*)\\s+\\+\\s+(\\w*)')  # W_+_W\n",
    "\n",
    "ptn_space_stuff.match('x + y').groups()\n",
    "ptn_space_stuff.match('x              + y').groups()\n",
    "ptn_space_stuff.match('x +              y').groups()"
   ]
  },
  {
   "cell_type": "code",
   "execution_count": 88,
   "metadata": {},
   "outputs": [
    {
     "data": {
      "text/plain": [
       "('x',)"
      ]
     },
     "execution_count": 88,
     "metadata": {},
     "output_type": "execute_result"
    },
    {
     "data": {
      "text/plain": [
       "('yyy',)"
      ]
     },
     "execution_count": 88,
     "metadata": {},
     "output_type": "execute_result"
    },
    {
     "data": {
      "text/plain": [
       "('z',)"
      ]
     },
     "execution_count": 88,
     "metadata": {},
     "output_type": "execute_result"
    }
   ],
   "source": [
    "# Reversed version: {\\W, \\D, \\S}.\n",
    "\n",
    "# Like this:\n",
    "#   \\d ==  [0-9] \n",
    "#   \\D == [^0-9]\n",
    "\n",
    "ptn_trim_sortof = recompile(r'\\W*(\\w*)\\W*')\n",
    "\n",
    "ptn_trim_sortof.match('x  ').groups()\n",
    "ptn_trim_sortof.match('yyy').groups()\n",
    "ptn_trim_sortof.match('  z').groups()"
   ]
  },
  {
   "cell_type": "markdown",
   "metadata": {},
   "source": [
    "- 0x08 - ```?``` gangster"
   ]
  },
  {
   "cell_type": "code",
   "execution_count": 122,
   "metadata": {},
   "outputs": [
    {
     "data": {
      "text/plain": [
       "('XD',)"
      ]
     },
     "execution_count": 122,
     "metadata": {},
     "output_type": "execute_result"
    },
    {
     "data": {
      "text/plain": [
       "('babe',)"
      ]
     },
     "execution_count": 122,
     "metadata": {},
     "output_type": "execute_result"
    },
    {
     "data": {
      "text/plain": [
       "('girl',)"
      ]
     },
     "execution_count": 122,
     "metadata": {},
     "output_type": "execute_result"
    }
   ],
   "source": [
    "# ?: --- used in () but not saved\n",
    "\n",
    "# words only after 'hello'\n",
    "match(r'(?:hello)(.*)', 'helloXD').groups()\n",
    "\n",
    "# words only after 'xxx :)'\n",
    "ptn_afterxxx_smile = recompile(r\"(?:\\w+\\s\\:\\)\\s)(.*)\")\n",
    "\n",
    "ptn_afterxxx_smile.match(r\"yoooo :) babe\").groups()  # (?: )    \\w+    \\s \n",
    "ptn_afterxxx_smile.match(r\"heyyy :) girl\").groups()  # \\:    \\)    \\s"
   ]
  },
  {
   "cell_type": "code",
   "execution_count": 124,
   "metadata": {},
   "outputs": [
    {
     "data": {
      "text/plain": [
       "('really',)"
      ]
     },
     "execution_count": 124,
     "metadata": {},
     "output_type": "execute_result"
    }
   ],
   "source": [
    "# ?# --- comment, LITERALLY!\n",
    "\n",
    "match(\n",
    "    r'(?#im-comment)(.*)', 'really').groups()"
   ]
  },
  {
   "cell_type": "code",
   "execution_count": 172,
   "metadata": {},
   "outputs": [
    {
     "data": {
      "text/plain": [
       "('drive',)"
      ]
     },
     "execution_count": 172,
     "metadata": {},
     "output_type": "execute_result"
    },
    {
     "data": {
      "text/plain": [
       "('drive', 'google')"
      ]
     },
     "execution_count": 172,
     "metadata": {},
     "output_type": "execute_result"
    }
   ],
   "source": [
    "# ?= --- match only XX follows \n",
    "\n",
    "# core differences were explained down below\n",
    "match(r'(.*)(?:\\.)(?=google)', 'drive.google.com').groups()\n",
    "match(r'(.*)(?:\\.)(google)', 'drive.google.com').groups()"
   ]
  },
  {
   "cell_type": "markdown",
   "metadata": {},
   "source": [
    "I'm confused that why we need to use  stuff like ```?X```\n",
    "- (What I think is that there's **SOME** functions may do their job as well)\n",
    "- (so, why we need it) (of course, the '?:' '?#' is kinda reasonable)\n",
    "\n",
    "---- \n",
    "\n",
    "***Suddenly***, there's somethin' came into my mind \n",
    "- Stuff like ```?X``` does **NOT** consume space! (It was called **assertions**)\n",
    "- Take an example:\n",
    "    - What I think before is '(google\\\\.com)'\n",
    "    - By using ```?X```   is ```(?=google\\.com)```\n",
    "- what's the difference?\n",
    "    - The first one **will** match (and return) the 'google.com'\n",
    "    - But the 2nd will **NOT** unless I change it like (?=***(***google\\.com***)***)"
   ]
  },
  {
   "cell_type": "code",
   "execution_count": 176,
   "metadata": {},
   "outputs": [
    {
     "data": {
      "text/plain": [
       "('drive.google.com',)"
      ]
     },
     "execution_count": 176,
     "metadata": {},
     "output_type": "execute_result"
    },
    {
     "data": {
      "text/plain": [
       "('drive.',)"
      ]
     },
     "execution_count": 176,
     "metadata": {},
     "output_type": "execute_result"
    }
   ],
   "source": [
    "# ?! --- match only XX NOT follows\n",
    "\n",
    "# kinda like the diff between '\\b' and 'B' (as an example)\n",
    "match(r'(.*)(?!google)', 'drive.google.com').groups()  # -> nothin for 2nd, missed\n",
    "match(r'(.*)(?=google)', 'drive.google.com').groups()  # -> matched (not consume!)"
   ]
  },
  {
   "cell_type": "code",
   "execution_count": 184,
   "metadata": {},
   "outputs": [
    {
     "data": {
      "text/plain": [
       "('drive.', 'google', '.com')"
      ]
     },
     "execution_count": 184,
     "metadata": {},
     "output_type": "execute_result"
    },
    {
     "data": {
      "text/plain": [
       "('drive.', 'google', 'google.com')"
      ]
     },
     "execution_count": 184,
     "metadata": {},
     "output_type": "execute_result"
    },
    {
     "data": {
      "text/plain": [
       "('400-', '800-1111')"
      ]
     },
     "execution_count": 184,
     "metadata": {},
     "output_type": "execute_result"
    },
    {
     "data": {
      "text/plain": [
       "('400-800', '-1111')"
      ]
     },
     "execution_count": 184,
     "metadata": {},
     "output_type": "execute_result"
    }
   ],
   "source": [
    "# ?<=\n",
    "\n",
    "# diff between '?:' and '?=' (kinda similar)\n",
    "match(r'(.*)(?:(google))(.*)', 'drive.google.com').groups()  # not show but consm\n",
    "match(r'(.*)(?=(google))(.*)', 'drive.google.com').groups()  # not consume \n",
    "\n",
    "# and diff between \"lookahead\" and \"lookbehind\"\n",
    "match(r'(.*)(?=800)(.*)',  '400-800-1111').groups()  # before 800\n",
    "match(r'(.*)(?<=800)(.*)', '400-800-1111').groups()  # before 800 plus 800\n",
    "\n",
    "# its usage already contained at above, so that's all."
   ]
  },
  {
   "cell_type": "code",
   "execution_count": 262,
   "metadata": {},
   "outputs": [
    {
     "data": {
      "text/plain": [
       "('123', 'USD4567')"
      ]
     },
     "execution_count": 262,
     "metadata": {},
     "output_type": "execute_result"
    },
    {
     "data": {
      "text/plain": [
       "('123', 'xxx4567')"
      ]
     },
     "execution_count": 262,
     "metadata": {},
     "output_type": "execute_result"
    }
   ],
   "source": [
    "# ?!=  ?<!  \n",
    "#   name relations (?= -- ?<= -- ?<!) (?! -- ?!=) \n",
    "\n",
    "match(r'(\\d{3})(?=USD)(.*)',  '123USD4567').groups()  # the middle should be 'USD'\n",
    "match(r'(\\d{3})(?!=USD)(.*)', '123xxx4567').groups()  # this one shouldn't"
   ]
  }
 ],
 "metadata": {
  "kernelspec": {
   "display_name": "Python 3",
   "language": "python",
   "name": "python3"
  },
  "language_info": {
   "codemirror_mode": {
    "name": "ipython",
    "version": 3
   },
   "file_extension": ".py",
   "mimetype": "text/x-python",
   "name": "python",
   "nbconvert_exporter": "python",
   "pygments_lexer": "ipython3",
   "version": "3.6.5"
  }
 },
 "nbformat": 4,
 "nbformat_minor": 2
}
