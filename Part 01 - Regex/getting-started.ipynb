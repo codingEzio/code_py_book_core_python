{
 "cells": [
  {
   "cell_type": "markdown",
   "metadata": {},
   "source": [
    "Use [regex101](https://regex101.com) !!"
   ]
  },
  {
   "cell_type": "markdown",
   "metadata": {},
   "source": [
    "a few words about ```match``` & ```search```\n",
    "- ***search*** <u>hell</u> **in** \\*<u>hell</u>o world\\*\n",
    "- <u>hell</u>o world ***match*** \\*<u>hell</u>\\*"
   ]
  },
  {
   "cell_type": "code",
   "execution_count": 93,
   "metadata": {},
   "outputs": [],
   "source": [
    "from re import *\n",
    "from re import compile as recompile"
   ]
  },
  {
   "cell_type": "markdown",
   "metadata": {},
   "source": [
    "- 0x01 - match one!"
   ]
  },
  {
   "cell_type": "code",
   "execution_count": 122,
   "metadata": {},
   "outputs": [
    {
     "data": {
      "text/plain": [
       "'at'"
      ]
     },
     "execution_count": 122,
     "metadata": {},
     "output_type": "execute_result"
    },
    {
     "data": {
      "text/plain": [
       "'home'"
      ]
     },
     "execution_count": 122,
     "metadata": {},
     "output_type": "execute_result"
    }
   ],
   "source": [
    "search(r'at|home', \"at\")  [0]\n",
    "search(r'at|home', \"home\")[0]"
   ]
  },
  {
   "cell_type": "markdown",
   "metadata": {},
   "source": [
    "- 0x02 - sole '.'"
   ]
  },
  {
   "cell_type": "code",
   "execution_count": 95,
   "metadata": {
    "scrolled": true
   },
   "outputs": [
    {
     "data": {
      "text/plain": [
       "('hello', 'X')"
      ]
     },
     "execution_count": 95,
     "metadata": {},
     "output_type": "execute_result"
    },
    {
     "data": {
      "text/plain": [
       "('hello', '\\n')"
      ]
     },
     "execution_count": 95,
     "metadata": {},
     "output_type": "execute_result"
    }
   ],
   "source": [
    "# match anything ( if with 'flags' )\n",
    "\n",
    "search(r\"(hello)(.)\", \"helloX\").groups()\n",
    "\n",
    "search(r\"(hello)(.)\", \"\"\"\n",
    "hello\n",
    "world\n",
    "\"\"\", flags=DOTALL).groups()"
   ]
  },
  {
   "cell_type": "markdown",
   "metadata": {},
   "source": [
    "- 0x03 - start/end "
   ]
  },
  {
   "cell_type": "code",
   "execution_count": 96,
   "metadata": {
    "scrolled": true
   },
   "outputs": [
    {
     "data": {
      "text/plain": [
       "('From', '.. Swiss!')"
      ]
     },
     "execution_count": 96,
     "metadata": {},
     "output_type": "execute_result"
    },
    {
     "data": {
      "text/plain": [
       "('Kill ', 'it')"
      ]
     },
     "execution_count": 96,
     "metadata": {},
     "output_type": "execute_result"
    },
    {
     "data": {
      "text/plain": [
       "('Hate ', 'it')"
      ]
     },
     "execution_count": 96,
     "metadata": {},
     "output_type": "execute_result"
    },
    {
     "data": {
      "text/plain": [
       "('hello', 'ooo world', '!')"
      ]
     },
     "execution_count": 96,
     "metadata": {},
     "output_type": "execute_result"
    },
    {
     "data": {
      "text/plain": [
       "('hello', ' world', '!')"
      ]
     },
     "execution_count": 96,
     "metadata": {},
     "output_type": "execute_result"
    }
   ],
   "source": [
    "# with ^\n",
    "\n",
    "search(\n",
    "    r'(^From)(.*)', \n",
    "    'From.. Swiss!').groups()\n",
    "\n",
    "# with $\n",
    "\n",
    "search(r'(.*)(it$)', 'Kill it').groups()\n",
    "search(r'(.*)(it$)', 'Hate it').groups()\n",
    "\n",
    "\n",
    "# with ^ and $\n",
    "\n",
    "search(\n",
    "    r'(^hello)(.*)(!$)', \n",
    "    'helloooo world!').groups()\n",
    "\n",
    "search(\n",
    "    r'(^hello)(.*)(!$)', \n",
    "    'hello world!').groups()"
   ]
  },
  {
   "cell_type": "markdown",
   "metadata": {},
   "source": [
    "- 0x04 - \\b"
   ]
  },
  {
   "cell_type": "code",
   "execution_count": 97,
   "metadata": {},
   "outputs": [
    {
     "data": {
      "text/plain": [
       "('the',)"
      ]
     },
     "execution_count": 97,
     "metadata": {},
     "output_type": "execute_result"
    },
    {
     "data": {
      "text/plain": [
       "('the', 'hell')"
      ]
     },
     "execution_count": 97,
     "metadata": {},
     "output_type": "execute_result"
    },
    {
     "data": {
      "text/plain": [
       "('what', 'the', ' f')"
      ]
     },
     "execution_count": 97,
     "metadata": {},
     "output_type": "execute_result"
    }
   ],
   "source": [
    "# --- It was called 'word boundary' --- \n",
    "\n",
    "# What is it?\n",
    "#   Anything except the [a-zA-Z0-9_], all clear?\n",
    "\n",
    "search(r'(the)',           'the'      ).groups()  # itself, literally\n",
    "search(r'(\\bthe)(.*)',     'x thehell').groups()  # [BOUNDARY]the\n",
    "search(r'(.*)(the\\b)(.*)', 'whatthe f').groups()  # the[BOUNDARY]\n",
    "\n",
    "# --- As an boundary, but not consuming anythin'. ---"
   ]
  },
  {
   "cell_type": "code",
   "execution_count": 98,
   "metadata": {},
   "outputs": [
    {
     "data": {
      "text/plain": [
       "('x', 'the', '-x')"
      ]
     },
     "execution_count": 98,
     "metadata": {},
     "output_type": "execute_result"
    },
    {
     "data": {
      "text/plain": [
       "('x-', 'the', '-x')"
      ]
     },
     "execution_count": 98,
     "metadata": {},
     "output_type": "execute_result"
    }
   ],
   "source": [
    "# --- The '\\B' kinda reverses that (match -> NOT match) --- \n",
    "\n",
    "search(r'(.*)(\\Bthe)(.*)', 'xthe-x' ).groups()  # [NO-BOUNDARY]the\n",
    "search(r'(.*)(\\bthe)(.*)', 'x-the-x').groups()  # [BOUNDARY]the"
   ]
  },
  {
   "cell_type": "markdown",
   "metadata": {},
   "source": [
    "- 0x05 - \\[xyz\\]"
   ]
  },
  {
   "cell_type": "code",
   "execution_count": 104,
   "metadata": {},
   "outputs": [
    {
     "data": {
      "text/plain": [
       "('baby', 'by')"
      ]
     },
     "execution_count": 104,
     "metadata": {},
     "output_type": "execute_result"
    },
    {
     "data": {
      "text/plain": [
       "('box', 'x')"
      ]
     },
     "execution_count": 104,
     "metadata": {},
     "output_type": "execute_result"
    }
   ],
   "source": [
    "ptn = recompile(r'(^b[aoi](.*))')\n",
    "\n",
    "ptn.search('baby').groups()\n",
    "ptn.search('box' ).groups()"
   ]
  },
  {
   "cell_type": "code",
   "execution_count": 110,
   "metadata": {},
   "outputs": [
    {
     "data": {
      "text/plain": [
       "('a', 'b', 'c')"
      ]
     },
     "execution_count": 110,
     "metadata": {},
     "output_type": "execute_result"
    },
    {
     "data": {
      "text/plain": [
       "('x', 'y', 'z')"
      ]
     },
     "execution_count": 110,
     "metadata": {},
     "output_type": "execute_result"
    },
    {
     "data": {
      "text/plain": [
       "('a', 'y', 'c')"
      ]
     },
     "execution_count": 110,
     "metadata": {},
     "output_type": "execute_result"
    }
   ],
   "source": [
    "ptn2 = recompile(r'([ax])([by])([cz])')\n",
    "\n",
    "ptn2.search('abc').groups()\n",
    "ptn2.search('xyz').groups()\n",
    "ptn2.search('ayc').groups()"
   ]
  },
  {
   "cell_type": "code",
   "execution_count": 123,
   "metadata": {},
   "outputs": [
    {
     "data": {
      "text/plain": [
       "(('a',), ('b',), ('y',))"
      ]
     },
     "execution_count": 123,
     "metadata": {},
     "output_type": "execute_result"
    }
   ],
   "source": [
    "ptn3 = recompile(r'([abx-z])')\n",
    "\n",
    "ptn3.search('a').groups(), \\\n",
    "ptn3.search('b').groups(), \\\n",
    "ptn3.search('y').groups(), "
   ]
  },
  {
   "cell_type": "code",
   "execution_count": 130,
   "metadata": {},
   "outputs": [
    {
     "data": {
      "text/plain": [
       "(('c',), ('d',))"
      ]
     },
     "execution_count": 130,
     "metadata": {},
     "output_type": "execute_result"
    }
   ],
   "source": [
    "ptn4 = recompile(r'([^aeiou])')\n",
    "\n",
    "ptn4.search('c').groups(), \\\n",
    "ptn4.search('d').groups(), "
   ]
  },
  {
   "cell_type": "code",
   "execution_count": 151,
   "metadata": {},
   "outputs": [
    {
     "data": {
      "text/plain": [
       "('\\nX \\n', 'Y', '\\n')"
      ]
     },
     "execution_count": 151,
     "metadata": {},
     "output_type": "execute_result"
    }
   ],
   "source": [
    "ptn5 = recompile(r'(.*)([^\\t\\n])(.*)', flags=DOTALL)\n",
    "\n",
    "ptn5.search(\"\"\"\n",
    "X \n",
    "Y\n",
    "\"\"\").groups()  # '\\nX\\n' -> 'Y' -> '\\n'"
   ]
  },
  {
   "cell_type": "markdown",
   "metadata": {},
   "source": [
    "- 0x06 - \\[\\]"
   ]
  },
  {
   "cell_type": "code",
   "execution_count": null,
   "metadata": {},
   "outputs": [],
   "source": []
  }
 ],
 "metadata": {
  "kernelspec": {
   "display_name": "Python 3",
   "language": "python",
   "name": "python3"
  },
  "language_info": {
   "codemirror_mode": {
    "name": "ipython",
    "version": 3
   },
   "file_extension": ".py",
   "mimetype": "text/x-python",
   "name": "python",
   "nbconvert_exporter": "python",
   "pygments_lexer": "ipython3",
   "version": "3.6.5"
  }
 },
 "nbformat": 4,
 "nbformat_minor": 2
}
